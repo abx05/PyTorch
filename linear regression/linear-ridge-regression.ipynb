{
 "cells": [
  {
   "cell_type": "code",
   "execution_count": 1,
   "id": "a9fc0767-f702-4a66-b134-a04172243279",
   "metadata": {
    "tags": []
   },
   "outputs": [],
   "source": [
    "import torch\n",
    "import torch.nn as nn\n",
    "import pandas as pd\n",
    "import numpy as np\n",
    "import matplotlib.pyplot as plt"
   ]
  },
  {
   "cell_type": "code",
   "execution_count": 2,
   "id": "10c2101d-8ca1-41b1-8776-3e09d53f7882",
   "metadata": {},
   "outputs": [
    {
     "data": {
      "text/plain": [
       "'1.12.0+cu116'"
      ]
     },
     "execution_count": 2,
     "metadata": {},
     "output_type": "execute_result"
    }
   ],
   "source": [
    "torch.__version__ #compute unified device architecture"
   ]
  },
  {
   "cell_type": "markdown",
   "id": "89a2bbd8-4e82-4444-8f2a-7fd3d6bf1506",
   "metadata": {},
   "source": [
    "**CUDA performs asynchronus operations to support the paralllelism scheme, in the FIFO order the execution of which is invisible to us.**\n",
    "**Pytorch uses CUDA streams which is a linear sequence of operations for execution on a single device in a deterministic order within a stream.**"
   ]
  },
  {
   "cell_type": "markdown",
   "id": "8ab6bd70-bf0d-44f2-8b06-82aca032f1b9",
   "metadata": {},
   "source": [
    "<font size=5>**Linear Regression**</font>"
   ]
  },
  {
   "cell_type": "markdown",
   "id": "56f93d9e-8d9f-4f31-a2cc-004f65f7f082",
   "metadata": {},
   "source": [
    "**To perform LR using a single neuron we use Indentity function as the activation function, this will result in a single linear neuron**"
   ]
  },
  {
   "cell_type": "markdown",
   "id": "651f128f-1f1d-4e21-bc7b-adfd34ba27ba",
   "metadata": {},
   "source": [
    "**Constraint: y = W*X + b; MSE Optimization; Decision Variables: W and b**"
   ]
  },
  {
   "cell_type": "code",
   "execution_count": 3,
   "id": "247a8d78-3c04-43ff-949c-cb3696da9c1e",
   "metadata": {},
   "outputs": [],
   "source": [
    "#convert numpy form inputs to tensors\n",
    "def TensorFromNumpy(x):\n",
    "    x = torch.from_numpy(x)\n",
    "    return x"
   ]
  },
  {
   "cell_type": "code",
   "execution_count": 4,
   "id": "eae217ba-eeb9-4f76-ba17-5e1326ee7a8c",
   "metadata": {},
   "outputs": [],
   "source": [
    "def NumpyFromTensor(x):\n",
    "    x = x.detach().numpy()\n",
    "    return x"
   ]
  },
  {
   "cell_type": "code",
   "execution_count": 7,
   "id": "b7022618-c99b-4111-97a5-6f4b30cb1731",
   "metadata": {},
   "outputs": [],
   "source": [
    "class RegModel():\n",
    "    def __init__(self,inputdim,outputdim,hiddendim,lr,epochs):\n",
    "        self.inputdim = inputdim\n",
    "        self.outputdim = outputdim\n",
    "        self.hiddendim = hiddendim\n",
    "        self.learning_rate = lr\n",
    "        self.epochs = epochs\n",
    "        self.w1 = torch.rand(self.inputdim,self.hiddendim,requires_grad=True)\n",
    "        self.b1 = torch.rand(self.hiddendim,self.outputdim,requires_grad=True)\n",
    "    \n",
    "    def Train(self,x_train,y_train):\n",
    "        for iter in range(self.epochs):\n",
    "            y_pred = x_train.mm(self.w1).clamp(min=0).add(self.b1) # clamping predicted value simulates the ReLU activation\n",
    "            loss = (y_pred-y_train).pow(2).sum()\n",
    "            \n",
    "            if (iter+1) % 100 == 0:\n",
    "                print(iter+1,loss.item())\n",
    "            \n",
    "            loss.backward()\n",
    "            \n",
    "            with torch.no_grad():\n",
    "                self.w1 -= self.w1.grad * self.learning_rate\n",
    "                self.b1 -= self.b1.grad * self.learning_rate\n",
    "                self.w1.grad.zero_()\n",
    "                self.b1.grad.zero_()\n",
    "                \n",
    "    def Predict(self,x):\n",
    "        if type(x) is np.ndarray:\n",
    "            x = TensorFromNumpy(x)\n",
    "        pred = x.mm(self.w1).clamp(min=0).add(self.b1)\n",
    "        return pred\n",
    "    "
   ]
  },
  {
   "cell_type": "markdown",
   "id": "cac9ae72-2fc8-45ec-ba9f-cca95fe63225",
   "metadata": {},
   "source": [
    "<font size=4>**Ridge Regression**</font>"
   ]
  },
  {
   "cell_type": "markdown",
   "id": "52a75c51-0e4f-4c45-8c10-6f93f2ae5ca3",
   "metadata": {},
   "source": [
    "**Uses regularisation to prevent overfitting on training data by adding a penalty function - L2 norm of the reg. coefficients**"
   ]
  },
  {
   "cell_type": "code",
   "execution_count": 9,
   "id": "8d1faff9-3c17-40d2-842f-f52b06fea353",
   "metadata": {},
   "outputs": [],
   "source": [
    "class RidgeRegModel():\n",
    "    def __init__(self,inputdim,outputdim,hiddendim,lr,epochs):\n",
    "        self.inputdim = inputdim\n",
    "        self.outputdim = outputdim\n",
    "        self.hiddendim = hiddendim\n",
    "        self.learning_rate = lr\n",
    "        self.epochs = epochs\n",
    "        self.w1 = torch.rand(self.inputdim,self.hiddendim,requires_grad=True)\n",
    "        self.b1 = torch.rand(self.hiddendim,self.outputdim,requires_grad=True)\n",
    "        self.alpha = 0.6 #strength of the regularization\n",
    "    \n",
    "    def Train(self,x_train,y_train):\n",
    "        for iter in range(self.epochs):\n",
    "            y_pred = x_train.mm(self.w1).add(self.b1)\n",
    "            penalty = (w1*w1)\n",
    "            loss = ((y_pred-y_train).pow(2).sum()) + (alpha * penalty)\n",
    "            \n",
    "            if (iter+1) % 100 == 0:\n",
    "                print(iter+1,loss.item())\n",
    "            \n",
    "            loss.backward()\n",
    "            \n",
    "            with torch.no_grad():\n",
    "                self.w1 -= self.w1.grad * self.learning_rate\n",
    "                self.b1 -= self.b1.grad * self.learning_rate\n",
    "                self.w1.grad.zero_()\n",
    "                self.b1.grad.zero_()\n",
    "                \n",
    "    def Predict(self,x):\n",
    "        if type(x) is np.ndarray:\n",
    "            x = TensorFromNumpy(x)\n",
    "        pred = x.mm(self.w1).add(self.b1)\n",
    "        return pred"
   ]
  },
  {
   "cell_type": "code",
   "execution_count": null,
   "id": "ed2b1238-515a-4961-929a-60b8ece24fe7",
   "metadata": {},
   "outputs": [],
   "source": []
  }
 ],
 "metadata": {
  "kernelspec": {
   "display_name": "Python 3 (ipykernel)",
   "language": "python",
   "name": "python3"
  },
  "language_info": {
   "codemirror_mode": {
    "name": "ipython",
    "version": 3
   },
   "file_extension": ".py",
   "mimetype": "text/x-python",
   "name": "python",
   "nbconvert_exporter": "python",
   "pygments_lexer": "ipython3",
   "version": "3.9.13"
  }
 },
 "nbformat": 4,
 "nbformat_minor": 5
}
